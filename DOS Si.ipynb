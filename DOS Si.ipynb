{
 "cells": [
  {
   "cell_type": "markdown",
   "metadata": {},
   "source": [
    "# Student project: Density of states for the valance band silicon\n",
    "\n",
    "Author: Michael Pusterhofer\n",
    "\n",
    "The valance band can be described using two parabolas. One for heavy holes and one for light holes.\n",
    "The dispersion relation for those bands are listed below:"
   ]
  },
  {
   "cell_type": "markdown",
   "metadata": {},
   "source": [
    "$\\begin{equation}\n",
    "E_{v,lh}=-\\frac{\\hbar^2}{2m_{e}}\\left(4.1k^2-\\sqrt{1.21k^4+4.1(k_x^2k_y^2+k_x^2k_z^2+k_y^2k_z^2)}\\right)\n",
    "\\end{equation}$"
   ]
  },
  {
   "cell_type": "markdown",
   "metadata": {},
   "source": [
    "$\\begin{equation}\n",
    "E_{v,hh}=-\\frac{\\hbar^2}{2m_{e}}\\left(4.1k^2+\\sqrt{1.21k^4+4.1(k_x^2k_y^2+k_x^2k_z^2+k_y^2k_z^2)}\\right)\n",
    "\\end{equation}$"
   ]
  },
  {
   "cell_type": "markdown",
   "metadata": {},
   "source": [
    "The split-off band can be calculated by:"
   ]
  },
  {
   "cell_type": "markdown",
   "metadata": {},
   "source": [
    "$\\begin{equation}\n",
    "E_{v,so}=-E_{so}-\\frac{\\hbar^2k^2}{2m_{so}}.\n",
    "\\end{equation}$"
   ]
  },
  {
   "cell_type": "markdown",
   "metadata": {},
   "source": [
    "For silicon $E_{so}$ is $0.035 eV$ and $m_{so}$ is $0.24 m_e$. Those values are as well as the equations are taken from http://lampx.tugraz.at/~hadley/memm/materials/silicon/silicon.php ."
   ]
  },
  {
   "cell_type": "markdown",
   "metadata": {},
   "source": [
    "One can notice that the dispersion relation is symmetric in x, y, z. This allows to calculate only 1/8 of the k space(positive k values)\n",
    "\n",
    "By calculating the energy on a cubic grid we can determine the Density of states by counting the energies. This is done by binning using the numpy.histogram method.\n",
    "\n",
    "Because we calculate only 1/8 of the k space and our k-point spacing is different the density of states we have to multiply our result by 8 and divide by the volume of k-state as well as the bin size used in numpy.histogram."
   ]
  },
  {
   "cell_type": "markdown",
   "metadata": {},
   "source": [
    "## Calculate DOS(E) for light and heavy holes + split-off band\n",
    "The calculation takes the positive octant of k-space and calculates the corresponding energies. This is done in sets of 10000 points, which are binned(600 bins between 0 and -0.06 eV) to save memory. In total $300^3$ points are calculated. "
   ]
  },
  {
   "cell_type": "code",
   "execution_count": 1,
   "metadata": {},
   "outputs": [
    {
     "name": "stdout",
     "output_type": "stream",
     "text": [
      "Using matplotlib backend: Qt5Agg\n",
      "Populating the interactive namespace from numpy and matplotlib\n"
     ]
    }
   ],
   "source": [
    "# initializing python libraries\n",
    "%pylab\n",
    "%matplotlib inline\n",
    "# import constants\n",
    "from scipy.constants import hbar, m_e, eV, angstrom\n",
    "# import iterator helper functions\n",
    "import itertools as it\n",
    "# import just in time compiler for optimization\n",
    "from numba import jit"
   ]
  },
  {
   "cell_type": "code",
   "execution_count": 2,
   "metadata": {},
   "outputs": [
    {
     "name": "stdout",
     "output_type": "stream",
     "text": [
      "100%\r"
     ]
    }
   ],
   "source": [
    "## set constants\n",
    "# split-off band mass\n",
    "m_so = 0.24*m_e\n",
    "# split off band energy\n",
    "energy_so = 0.035*eV\n",
    "# maximum k value for one axis (a_Si = 5.43A)\n",
    "kmax = pi/(5.43*angstrom)/4\n",
    "# number of k points for one axis (0-kmax)\n",
    "nofkpoints = 300\n",
    "# bins for the density of states (see numpy.histogram)\n",
    "bins = linspace(-0.06,0,600)\n",
    "\n",
    "## calculate k-values\n",
    "# calculate k²-values for one axis\n",
    "k2range = linspace(0,kmax,nofkpoints)**2\n",
    "# define iterator for k-values in the positive octant\n",
    "it_k = it.product(k2range,repeat=3)\n",
    "\n",
    "## create store for frequency values (see numpy.histogram)\n",
    "freq = zeros(bins.size-1)\n",
    "\n",
    "## define functions\n",
    "\n",
    "@jit\n",
    "def get_k2(k2x,k2y,k2z):\n",
    "    \"\"\"calculate k2 from k2x,k2y,k2z\"\"\"\n",
    "    return k2x+k2y+k2z\n",
    "\n",
    "@jit\n",
    "def root_part(k2,k2x,k2y,k2z):\n",
    "    \"\"\"calculate the root part of the dispersion relation for heavy/light holes\"\"\"\n",
    "    return sqrt(1.21*k2**2+4.1*(k2x*k2y+k2x*k2z+k2y+k2z)) \n",
    "\n",
    "@jit\n",
    "def get_heavy(part1,part2):\n",
    "    \"\"\"calculate the dispersion relation for heavy holes\"\"\"\n",
    "    return -1/eV*hbar**2/(2*m_e)*(4.1*part1+part2)\n",
    "    \n",
    "@jit\n",
    "def get_light(part1,part2):\n",
    "    \"\"\"calculate the dispersion relation for light holes\"\"\"\n",
    "    return -1/eV*hbar**2/(2*m_e)*(4.1*part1-part2)\n",
    "\n",
    "@jit\n",
    "def get_freq_hist(x,bins):\n",
    "    \"\"\"calculate the frequencies using the values x and the bin-edges bins\"\"\"\n",
    "    freq,_ = histogram(x,bins=bins)\n",
    "    return freq\n",
    "\n",
    "@jit\n",
    "def get_so(k2):\n",
    "    \"\"\"calculate the dispersion relation for the split-off band\"\"\"\n",
    "    return (-energy_so-hbar**2*k2/(2*m_so))/eV\n",
    "\n",
    "@jit\n",
    "def get_freq_for_n(it_k,n):\n",
    "    \"\"\"calculate the frequencies using n values of the iterator it_k\"\"\"\n",
    "    energy = empty([n,2])\n",
    "    energy.fill(np.nan)\n",
    "    count = 0\n",
    "    \n",
    "    # calculate reusable part of the dispersion relation\n",
    "    for i,(k2x,k2y,k2z) in enumerate(it_k):\n",
    "        k2 = get_k2(k2x,k2y,k2z)\n",
    "        # calculate k²\n",
    "        energy[i,0] = k2 \n",
    "        # calculate the root them\n",
    "        energy[i,1] = root_part(k2,k2x,k2y,k2z)\n",
    "        count = i\n",
    "        if i >= n-1:\n",
    "            break; \n",
    "    # calculate the energies for heavy/light holes and the split-off band        \n",
    "    heavy = get_heavy(energy[:,0],energy[:,1])\n",
    "    light = get_light(energy[:,0],energy[:,1])\n",
    "    so = get_so(energy[:,0]) \n",
    "     \n",
    "    # check if iterator had enough values\n",
    "    if count == n:\n",
    "        h_freq = get_freq_hist(heavy,bins)\n",
    "        l_freq = get_freq_hist(light,bins)\n",
    "        so_freq = get_freq_hist(so,bins)\n",
    "    # remove NaNs from the calculation\n",
    "    else:\n",
    "        h_freq = get_freq_hist(heavy[~isnan(heavy)],bins)\n",
    "        l_freq = get_freq_hist(light[~isnan(light)],bins)\n",
    "        so_freq = get_freq_hist(so[~isnan(so)],bins)\n",
    "        \n",
    "    # return sum of all band frequencies\n",
    "    return h_freq + l_freq + so_freq\n",
    "\n",
    "\n",
    "## calculate the DOS\n",
    "count = 0;\n",
    "while(nofkpoints**3 > count):\n",
    "    # define chunk size\n",
    "    n = 10000\n",
    "    nfreq = get_freq_for_n(it_k,n)\n",
    "    freq += nfreq    \n",
    "    count += n\n",
    "    print(\"{:3.0f}%\".format(100*count/nofkpoints**3),end=\"\\r\")\n",
    "\n",
    "# get size of one bin\n",
    "dE = bins[1]-bins[0]\n",
    "# get box length of one k-state\n",
    "L = 2*pi / (sqrt(k2range[1])-sqrt(k2range[0]))\n",
    "# multiply by 8, because we used only an octant in k-space\n",
    "# divide by bin size\n",
    "# divide by k-state volume\n",
    "freq = 8 * freq / dE / L**3\n",
    "\n"
   ]
  },
  {
   "cell_type": "code",
   "execution_count": 5,
   "metadata": {},
   "outputs": [
    {
     "data": {
      "image/png": "[encoded data removed]",
      "text/plain": [
       "<matplotlib.figure.Figure at 0x7f984d282390>"
      ]
     },
     "metadata": {},
     "output_type": "display_data"
    }
   ],
   "source": [
    "## plot DOS\n",
    "figure()\n",
    "plot(bins[:-1],freq,label=\"DOS\")\n",
    "grid()\n",
    "ylabel(\"DOS\")\n",
    "xlabel(\"E / eV\")\n",
    "legend();"
   ]
  },
  {
   "cell_type": "code",
   "execution_count": 4,
   "metadata": {},
   "outputs": [
    {
     "name": "stdout",
     "output_type": "stream",
     "text": [
      "         bins          freq\n",
      "594 -0.000501  2.365523e+25\n",
      "595 -0.000401  2.219728e+25\n",
      "596 -0.000301  1.822437e+25\n",
      "597 -0.000200  1.501688e+25\n",
      "598 -0.000100  9.804712e+24\n"
     ]
    }
   ],
   "source": [
    "## create a DataFrame and export it as csv file\n",
    "import pandas as pd\n",
    "df = pd.DataFrame(data = {\"freq\":freq,\"bins\":bins[:-1]})\n",
    "print(df.tail())\n",
    "df.to_csv(\"DOS_Si.csv\")"
   ]
  }
 ],
 "metadata": {
  "kernelspec": {
   "display_name": "Python 3",
   "language": "python",
   "name": "python3"
  },
  "language_info": {
   "codemirror_mode": {
    "name": "ipython",
    "version": 3
   },
   "file_extension": ".py",
   "mimetype": "text/x-python",
   "name": "python",
   "nbconvert_exporter": "python",
   "pygments_lexer": "ipython3",
   "version": "3.6.4"
  }
 },
 "nbformat": 4,
 "nbformat_minor": 2
}
