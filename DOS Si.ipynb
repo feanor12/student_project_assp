{
 "cells": [
  {
   "cell_type": "markdown",
   "metadata": {},
   "source": [
    "# Silicon: density of states of the valance band\n",
    "\n",
    "The valance band can be described using two parabolas. One for heavy holes and one for light holes.\n",
    "The dispersion relation for those bands are listed below:"
   ]
  },
  {
   "cell_type": "markdown",
   "metadata": {},
   "source": [
    "$\\begin{equation}\n",
    "E_{v,lh}=-\\frac{\\hbar^2}{2m_{e}}\\left(4.1k^2-\\sqrt{1.21k^4+4.1(k_x^2k_y^2+k_x^2k_z^2+k_y^2k_z^2)}\\right)\n",
    "\\end{equation}$"
   ]
  },
  {
   "cell_type": "markdown",
   "metadata": {},
   "source": [
    "$\\begin{equation}\n",
    "E_{v,hh}=-\\frac{\\hbar^2}{2m_{e}}\\left(4.1k^2+\\sqrt{1.21k^4+4.1(k_x^2k_y^2+k_x^2k_z^2+k_y^2k_z^2)}\\right),\n",
    "\\end{equation}$"
   ]
  },
  {
   "cell_type": "markdown",
   "metadata": {},
   "source": [
    "One can notice that the dispersion relation is symmetric in x, y, z. This allows to calculate only 1/8 of the k space(positive k values)\n",
    "\n",
    "By calculating the energy on a cubic grid we can determine the Density of states by counting the energies. This is done by binning using the numpy.histogram method.\n",
    "\n",
    "Because we calculate only 1/8 of the k space and our k-point spacing is different the density of states has to be calculated with a constant."
   ]
  },
  {
   "cell_type": "code",
   "execution_count": 1,
   "metadata": {},
   "outputs": [
    {
     "name": "stdout",
     "output_type": "stream",
     "text": [
      "Using matplotlib backend: Qt5Agg\n",
      "Populating the interactive namespace from numpy and matplotlib\n"
     ]
    }
   ],
   "source": [
    "#initializing python libraries\n",
    "%pylab\n",
    "%matplotlib inline"
   ]
  },
  {
   "cell_type": "markdown",
   "metadata": {},
   "source": [
    "## Calculate D(E) for light + heavy holes\n",
    "The calculation takes the positive octant of k-space and calculates the corresponding energies. This is done in sets of 1000000 points, which are binned(600 bins between 0 and -0.06eV) to save memory. In total $1000^3$ points are calculated."
   ]
  },
  {
   "cell_type": "code",
   "execution_count": 2,
   "metadata": {},
   "outputs": [],
   "source": [
    "from scipy.constants import hbar, m_e, eV, angstrom\n",
    "import itertools as it"
   ]
  },
  {
   "cell_type": "code",
   "execution_count": 35,
   "metadata": {},
   "outputs": [
    {
     "name": "stdout",
     "output_type": "stream",
     "text": [
      "1.099\r"
     ]
    },
    {
     "data": {
      "text/plain": [
       "[<matplotlib.lines.Line2D at 0x7f7cde053fd0>]"
      ]
     },
     "execution_count": 35,
     "metadata": {},
     "output_type": "execute_result"
    },
    {
     "data": {
      "image/png": "[encoded data removed]",
      "text/plain": [
       "<matplotlib.figure.Figure at 0x7f7cdd8c9ef0>"
      ]
     },
     "metadata": {},
     "output_type": "display_data"
    }
   ],
   "source": [
    "from numba import jit\n",
    "\n",
    "kmax = pi/(angstrom*5.43)/4\n",
    "kmax2 = kmax**2\n",
    "nofkpoints = 1000\n",
    "krange = linspace(0,kmax,nofkpoints)**2\n",
    "it_k = it.product(krange,krange,krange)\n",
    "bins = linspace(-0.06,0,600)\n",
    "freq = zeros(bins.size-1)\n",
    "done=False\n",
    "count = 0;\n",
    "\n",
    "@jit\n",
    "def get_k(kx,ky,kz):\n",
    "    return kx+ky+kz\n",
    "\n",
    "@jit\n",
    "def root_part(k,kx,ky,kz):\n",
    "    return sqrt(1.21*k**2+4.1*(kx*ky+kx*kz+ky+kz)) \n",
    "\n",
    "@jit\n",
    "def get_heavy(part1,part2):\n",
    "    return -1/eV*hbar**2/(2*m_e)*(4.1*part1+part2)\n",
    "    \n",
    "@jit\n",
    "def get_light(part1,part2):\n",
    "    return -1/eV*hbar**2/(2*m_e)*(4.1*part1-part2)\n",
    "\n",
    "@jit\n",
    "def get_freq_hist(x,bins):\n",
    "    freq,_ = histogram(x,bins=bins)\n",
    "    return freq\n",
    "\n",
    "@jit\n",
    "def get_freq_for_n(it_k,n):\n",
    "    energy = empty([n,2])\n",
    "    count = 0\n",
    "    for i,(kx,ky,kz) in enumerate(it_k):\n",
    "        k = get_k(kx,ky,kz)\n",
    "        energy[i,0] = k \n",
    "        energy[i,1] = root_part(k,kx,ky,kz)\n",
    "        count = i\n",
    "        if i >= n-1:\n",
    "            break;            \n",
    "    heavy = get_heavy(energy[:,0],energy[:,1])\n",
    "    light = get_light(energy[:,0],energy[:,1])\n",
    "    freq = zeros(bins.size-1)\n",
    "    if count == n:\n",
    "        h_freq = get_freq_hist(heavy,bins)\n",
    "        l_freq = get_freq_hist(light,bins)\n",
    "    else:\n",
    "        h_freq = get_freq_hist(heavy[~isnan(heavy)],bins)\n",
    "        l_freq = get_freq_hist(light[~isnan(light)],bins)\n",
    "    freq =  h_freq + l_freq\n",
    "    return freq\n",
    "\n",
    "while(nofkpoints**3 > count):\n",
    "    n = 1000000\n",
    "    nfreq = get_freq_for_n(it_k,n)\n",
    "    freq = freq+nfreq    \n",
    "    count = count + n\n",
    "    print(count/nofkpoints**3,end=\"\\r\")\n",
    "figure()\n",
    "\n",
    "dE = bins[1]-bins[0]\n",
    "L = 2*pi / (sqrt(krange[1])-sqrt(krange[0]))\n",
    "freq = 8 * freq / dE / L**3\n",
    "plot(bins[:-1],freq)"
   ]
  },
  {
   "cell_type": "code",
   "execution_count": 37,
   "metadata": {},
   "outputs": [],
   "source": [
    "import pandas as pd"
   ]
  },
  {
   "cell_type": "code",
   "execution_count": 49,
   "metadata": {},
   "outputs": [
    {
     "data": {
      "text/html": [
       "<div>\n",
       "<style scoped>\n",
       "    .dataframe tbody tr th:only-of-type {\n",
       "        vertical-align: middle;\n",
       "    }\n",
       "\n",
       "    .dataframe tbody tr th {\n",
       "        vertical-align: top;\n",
       "    }\n",
       "\n",
       "    .dataframe thead th {\n",
       "        text-align: right;\n",
       "    }\n",
       "</style>\n",
       "<table border=\"1\" class=\"dataframe\">\n",
       "  <thead>\n",
       "    <tr style=\"text-align: right;\">\n",
       "      <th></th>\n",
       "      <th>bins</th>\n",
       "      <th>freq</th>\n",
       "    </tr>\n",
       "  </thead>\n",
       "  <tbody>\n",
       "    <tr>\n",
       "      <th>0</th>\n",
       "      <td>-0.060000</td>\n",
       "      <td>2.483979e+26</td>\n",
       "    </tr>\n",
       "    <tr>\n",
       "      <th>1</th>\n",
       "      <td>-0.059900</td>\n",
       "      <td>2.462724e+26</td>\n",
       "    </tr>\n",
       "    <tr>\n",
       "      <th>2</th>\n",
       "      <td>-0.059800</td>\n",
       "      <td>2.479219e+26</td>\n",
       "    </tr>\n",
       "    <tr>\n",
       "      <th>3</th>\n",
       "      <td>-0.059699</td>\n",
       "      <td>2.464649e+26</td>\n",
       "    </tr>\n",
       "    <tr>\n",
       "      <th>4</th>\n",
       "      <td>-0.059599</td>\n",
       "      <td>2.464522e+26</td>\n",
       "    </tr>\n",
       "  </tbody>\n",
       "</table>\n",
       "</div>"
      ],
      "text/plain": [
       "       bins          freq\n",
       "0 -0.060000  2.483979e+26\n",
       "1 -0.059900  2.462724e+26\n",
       "2 -0.059800  2.479219e+26\n",
       "3 -0.059699  2.464649e+26\n",
       "4 -0.059599  2.464522e+26"
      ]
     },
     "execution_count": 49,
     "metadata": {},
     "output_type": "execute_result"
    }
   ],
   "source": [
    "df = pd.DataFrame(data = {\"freq\":freq,\"bins\":bins[:-1]})\n",
    "df.head()\n",
    "df.to_csv"
   ]
  },
  {
   "cell_type": "code",
   "execution_count": null,
   "metadata": {},
   "outputs": [],
   "source": []
  }
 ],
 "metadata": {
  "kernelspec": {
   "display_name": "Python 3",
   "language": "python",
   "name": "python3"
  },
  "language_info": {
   "codemirror_mode": {
    "name": "ipython",
    "version": 3
   },
   "file_extension": ".py",
   "mimetype": "text/x-python",
   "name": "python",
   "nbconvert_exporter": "python",
   "pygments_lexer": "ipython3",
   "version": "3.6.4"
  }
 },
 "nbformat": 4,
 "nbformat_minor": 2
}
